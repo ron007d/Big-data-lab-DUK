{
 "cells": [
  {
   "cell_type": "code",
   "execution_count": 1,
   "metadata": {},
   "outputs": [
    {
     "name": "stdout",
     "output_type": "stream",
     "text": [
      "Collecting pyspark\n",
      "  Downloading pyspark-3.3.1.tar.gz (281.4 MB)\n",
      "\u001b[K     |████████████████████████████████| 281.4 MB 7.8 MB/s eta 0:00:011\n",
      "\u001b[?25hCollecting py4j==0.10.9.5\n",
      "  Downloading py4j-0.10.9.5-py2.py3-none-any.whl (199 kB)\n",
      "\u001b[K     |████████████████████████████████| 199 kB 7.6 MB/s eta 0:00:01\n",
      "\u001b[?25hBuilding wheels for collected packages: pyspark\n",
      "  Building wheel for pyspark (setup.py) ... \u001b[?25lerror\n",
      "\u001b[31m  ERROR: Command errored out with exit status 1:\n",
      "   command: '/home/ron/SECONDARY_SSD/python vscode/pt_venv/bin/python3' -u -c 'import sys, setuptools, tokenize; sys.argv[0] = '\"'\"'/tmp/pip-install-ud005dz8/pyspark/setup.py'\"'\"'; __file__='\"'\"'/tmp/pip-install-ud005dz8/pyspark/setup.py'\"'\"';f=getattr(tokenize, '\"'\"'open'\"'\"', open)(__file__);code=f.read().replace('\"'\"'\\r\\n'\"'\"', '\"'\"'\\n'\"'\"');f.close();exec(compile(code, __file__, '\"'\"'exec'\"'\"'))' bdist_wheel -d /tmp/pip-wheel-srx6hkgf\n",
      "       cwd: /tmp/pip-install-ud005dz8/pyspark/\n",
      "  Complete output (6 lines):\n",
      "  usage: setup.py [global_opts] cmd1 [cmd1_opts] [cmd2 [cmd2_opts] ...]\n",
      "     or: setup.py --help [cmd1 cmd2 ...]\n",
      "     or: setup.py --help-commands\n",
      "     or: setup.py cmd --help\n",
      "  \n",
      "  error: invalid command 'bdist_wheel'\n",
      "  ----------------------------------------\u001b[0m\n",
      "\u001b[31m  ERROR: Failed building wheel for pyspark\u001b[0m\n",
      "\u001b[?25h  Running setup.py clean for pyspark\n",
      "Failed to build pyspark\n",
      "Installing collected packages: py4j, pyspark\n",
      "    Running setup.py install for pyspark ... \u001b[?25ldone\n",
      "\u001b[?25hSuccessfully installed py4j-0.10.9.5 pyspark-3.3.1\n"
     ]
    }
   ],
   "source": [
    "!pip install pyspark"
   ]
  },
  {
   "cell_type": "code",
   "execution_count": 1,
   "metadata": {},
   "outputs": [],
   "source": [
    "from pyspark.sql import SparkSession"
   ]
  },
  {
   "cell_type": "code",
   "execution_count": 2,
   "metadata": {},
   "outputs": [
    {
     "name": "stdout",
     "output_type": "stream",
     "text": [
      "22/12/21 15:38:52 WARN Utils: Your hostname, ron-linux resolves to a loopback address: 127.0.1.1; using 10.10.27.169 instead (on interface wlp4s0)\n",
      "22/12/21 15:38:52 WARN Utils: Set SPARK_LOCAL_IP if you need to bind to another address\n"
     ]
    },
    {
     "name": "stderr",
     "output_type": "stream",
     "text": [
      "Setting default log level to \"WARN\".\n",
      "To adjust logging level use sc.setLogLevel(newLevel). For SparkR, use setLogLevel(newLevel).\n"
     ]
    },
    {
     "name": "stdout",
     "output_type": "stream",
     "text": [
      "22/12/21 15:38:52 WARN NativeCodeLoader: Unable to load native-hadoop library for your platform... using builtin-java classes where applicable\n"
     ]
    }
   ],
   "source": [
    "spark = SparkSession.builder.appName('practise').getOrCreate()\n"
   ]
  },
  {
   "cell_type": "code",
   "execution_count": 3,
   "metadata": {},
   "outputs": [
    {
     "data": {
      "text/html": [
       "\n",
       "            <div>\n",
       "                <p><b>SparkSession - in-memory</b></p>\n",
       "                \n",
       "        <div>\n",
       "            <p><b>SparkContext</b></p>\n",
       "\n",
       "            <p><a href=\"http://10.10.27.169:4040\">Spark UI</a></p>\n",
       "\n",
       "            <dl>\n",
       "              <dt>Version</dt>\n",
       "                <dd><code>v3.3.1</code></dd>\n",
       "              <dt>Master</dt>\n",
       "                <dd><code>local[*]</code></dd>\n",
       "              <dt>AppName</dt>\n",
       "                <dd><code>practise</code></dd>\n",
       "            </dl>\n",
       "        </div>\n",
       "        \n",
       "            </div>\n",
       "        "
      ],
      "text/plain": [
       "<pyspark.sql.session.SparkSession at 0x7f65612d7430>"
      ]
     },
     "execution_count": 3,
     "metadata": {},
     "output_type": "execute_result"
    }
   ],
   "source": [
    "spark"
   ]
  },
  {
   "cell_type": "code",
   "execution_count": 4,
   "metadata": {},
   "outputs": [],
   "source": [
    "df_spark = spark.read.csv('./Student_Marks.csv')\n",
    "df_spark = spark.read.format('csv').option('header','true').load('./Student_Marks.csv')\n"
   ]
  },
  {
   "cell_type": "code",
   "execution_count": 5,
   "metadata": {},
   "outputs": [
    {
     "name": "stdout",
     "output_type": "stream",
     "text": [
      "root\n",
      " |-- number_courses: string (nullable = true)\n",
      " |-- time_study: string (nullable = true)\n",
      " |-- Marks: string (nullable = true)\n",
      "\n"
     ]
    }
   ],
   "source": [
    "df_spark.printSchema()"
   ]
  },
  {
   "cell_type": "code",
   "execution_count": 6,
   "metadata": {},
   "outputs": [
    {
     "name": "stdout",
     "output_type": "stream",
     "text": [
      "+--------------+----------+------+\n",
      "|number_courses|time_study| Marks|\n",
      "+--------------+----------+------+\n",
      "|             3|     4.508|19.202|\n",
      "|             4|     0.096| 7.734|\n",
      "|             4|     3.133|13.811|\n",
      "|             6|     7.909|53.018|\n",
      "|             8|     7.811|55.299|\n",
      "+--------------+----------+------+\n",
      "only showing top 5 rows\n",
      "\n"
     ]
    }
   ],
   "source": [
    "df_spark.show(5)"
   ]
  },
  {
   "cell_type": "code",
   "execution_count": 12,
   "metadata": {},
   "outputs": [
    {
     "name": "stdout",
     "output_type": "stream",
     "text": [
      "+--------------+----------+------+\n",
      "|number_courses|time_study| Marks|\n",
      "+--------------+----------+------+\n",
      "|             8|     7.811|55.299|\n",
      "|             8|     6.080|38.490|\n",
      "|             8|     3.977|25.133|\n",
      "|             8|     4.378|26.532|\n",
      "|             8|     3.864|24.172|\n",
      "|             8|     0.932|15.038|\n",
      "|             8|     7.591|53.158|\n",
      "|             8|     7.641|53.359|\n",
      "|             8|     7.468|51.343|\n",
      "|             8|     5.985|38.278|\n",
      "|             8|     2.262|17.705|\n",
      "|             8|     1.982|16.461|\n",
      "|             8|     6.201|39.957|\n",
      "|             8|     2.730|19.564|\n",
      "|             8|     6.471|42.426|\n",
      "|             8|     3.919|24.451|\n",
      "+--------------+----------+------+\n",
      "\n"
     ]
    }
   ],
   "source": [
    "df_spark.filter(df_spark.number_courses ==8).show()"
   ]
  },
  {
   "cell_type": "code",
   "execution_count": 11,
   "metadata": {},
   "outputs": [
    {
     "data": {
      "text/plain": [
       "16"
      ]
     },
     "execution_count": 11,
     "metadata": {},
     "output_type": "execute_result"
    }
   ],
   "source": [
    "df_spark.filter(df_spark.number_courses ==8).count()"
   ]
  },
  {
   "cell_type": "code",
   "execution_count": 27,
   "metadata": {},
   "outputs": [
    {
     "name": "stdout",
     "output_type": "stream",
     "text": [
      "+---+----+-----+------------+------+---+---+-----+--------+-----------------+---------+\n",
      "|obs|year|month|      intent|police|sex|age| race|hispanic|            place|education|\n",
      "+---+----+-----+------------+------+---+---+-----+--------+-----------------+---------+\n",
      "|  3|2012|    1|     Suicide|     0|  M| 60|White|     100|  Other specified|        4|\n",
      "|  5|2012|    2|     Suicide|     0|  M| 31|White|     100|  Other specified|        2|\n",
      "| 69|2012|    8|     Suicide|     0|  M| 60|White|     100|  Other specified|        4|\n",
      "|131|2012|   12|  Accidental|     0|  F| 31|White|     100|  Other specified|        3|\n",
      "|134|2012|   12|Undetermined|     0|  F| 31|White|     100|             Home|        3|\n",
      "|139|2012|    1|     Suicide|     0|  M| 60|White|     100|Other unspecified|        1|\n",
      "|174|2012|    1|     Suicide|     0|  M| 60|White|     100|Other unspecified|        2|\n",
      "|204|2012|    2|     Suicide|     0|  M| 60|White|     100|Other unspecified|        3|\n",
      "|428|2012|    5|     Suicide|     0|  M| 60|White|     100|             Home|        3|\n",
      "|430|2012|    5|     Suicide|     0|  M| 60|White|     100|             Home|        2|\n",
      "|457|2012|    5|    Homicide|     0|  M| 31|White|     100|           Street|        2|\n",
      "|467|2012|    6|     Suicide|     0|  M| 60|White|     100|             Home|        3|\n",
      "|577|2012|    7|     Suicide|     0|  F| 31|White|     100|Other unspecified|        1|\n",
      "|583|2012|    8|    Homicide|     0|  F| 31|White|     100|  Other specified|        1|\n",
      "|588|2012|    8|     Suicide|     0|  F| 31|White|     100|  Other specified|        3|\n",
      "|627|2012|    8|     Suicide|     0|  M| 60|White|     100|             Home|        1|\n",
      "|649|2012|    9|     Suicide|     0|  M| 60|White|     100|Other unspecified|        3|\n",
      "|738|2012|   10|     Suicide|     0|  M| 60|White|     100|             Home|        4|\n",
      "|814|2012|   10|     Suicide|     0|  M| 60|White|     100|Other unspecified|        3|\n",
      "|874|2012|   12|    Homicide|     0|  M| 60|White|     100|  Other specified|        3|\n",
      "+---+----+-----+------------+------+---+---+-----+--------+-----------------+---------+\n",
      "only showing top 20 rows\n",
      "\n"
     ]
    }
   ],
   "source": [
    "df_spark.filter(df_spark.race.like('W%')).filter((df_spark.age==60) | (df_spark.age==31)).show()"
   ]
  },
  {
   "cell_type": "code",
   "execution_count": 29,
   "metadata": {},
   "outputs": [
    {
     "name": "stdout",
     "output_type": "stream",
     "text": [
      "+-----+-----+\n",
      "|month|count|\n",
      "+-----+-----+\n",
      "|    7| 8989|\n",
      "|   11| 8243|\n",
      "|    3| 8289|\n",
      "|    8| 8783|\n",
      "|    5| 8669|\n",
      "|    6| 8677|\n",
      "|    9| 8508|\n",
      "|    1| 8273|\n",
      "|   10| 8406|\n",
      "|    4| 8455|\n",
      "|   12| 8413|\n",
      "|    2| 7093|\n",
      "+-----+-----+\n",
      "\n"
     ]
    }
   ],
   "source": [
    "df_spark.groupBy('month').count().show()"
   ]
  },
  {
   "cell_type": "code",
   "execution_count": 31,
   "metadata": {},
   "outputs": [
    {
     "name": "stdout",
     "output_type": "stream",
     "text": [
      "+-----+----+-----+--------+------+---+---+--------------------+--------+---------------+---------+\n",
      "|  obs|year|month|  intent|police|sex|age|                race|hispanic|          place|education|\n",
      "+-----+----+-----+--------+------+---+---+--------------------+--------+---------------+---------+\n",
      "|83070|2014|    1|Homicide|     0|  M| 37|               Black|     100|           Home|        2|\n",
      "|83186|2014|    1| Suicide|     0|  M| 77|               White|     100|           Home|        2|\n",
      "|83177|2014|    1| Suicide|     0|  M| 33|               White|     100|           Home|        2|\n",
      "|82950|2014|    1| Suicide|     0|  M| 23|               White|     100|Other specified|        3|\n",
      "|83178|2014|    1| Suicide|     0|  M| 78|               White|     100|           Home|        1|\n",
      "|83182|2014|    1| Suicide|     0|  M| 48|               White|     100|Other specified|        4|\n",
      "|83185|2014|    1|Homicide|     0|  F| 31|               White|     100|           Home|        3|\n",
      "|83183|2014|    1| Suicide|     0|  M| 46|               White|     100|           Home|        2|\n",
      "|83179|2014|    1| Suicide|     0|  M| 38|tive American/tiv...|     100|           Home|        1|\n",
      "|83184|2014|    1| Suicide|     0|  M| 53|               White|     100|           Home|        2|\n",
      "+-----+----+-----+--------+------+---+---+--------------------+--------+---------------+---------+\n",
      "only showing top 10 rows\n",
      "\n"
     ]
    }
   ],
   "source": [
    "df_spark.orderBy('month').show(10)"
   ]
  },
  {
   "cell_type": "code",
   "execution_count": 32,
   "metadata": {},
   "outputs": [
    {
     "name": "stdout",
     "output_type": "stream",
     "text": [
      "+---+----+-----+------------+------+---+---+--------------------+--------+---------------+---------+\n",
      "|obs|year|month|      intent|police|sex|age|                race|hispanic|          place|education|\n",
      "+---+----+-----+------------+------+---+---+--------------------+--------+---------------+---------+\n",
      "|  1|2012|    1|     Suicide|     0|  M| 34|Asian/Pacific Isl...|     100|           Home|        4|\n",
      "|  2|2012|    1|     Suicide|     0|  F| 21|               White|     100|         Street|        3|\n",
      "|  5|2012|    2|     Suicide|     0|  M| 31|               White|     100|Other specified|        2|\n",
      "|  7|2012|    2|Undetermined|     0|  M| 48|               White|     100|           Home|        2|\n",
      "|  8|2012|    3|     Suicide|     0|  M| 41|tive American/tiv...|     100|           Home|        2|\n",
      "| 11|2012|    2|     Suicide|     0|  M| 30|               White|     100|           Home|        3|\n",
      "| 12|2012|    1|     Suicide|     0|  M| 21|tive American/tiv...|     100|           Home|        2|\n",
      "| 13|2012|    3|     Suicide|     0|  M| 43|               White|     100|           Home|        1|\n",
      "| 14|2012|    3|     Suicide|     0|  M| 34|tive American/tiv...|     100|           Home|        2|\n",
      "| 15|2012|    3|    Homicide|     0|  M| 27|               White|     100|           Home|        2|\n",
      "| 16|2012|    3|     Suicide|     0|  M| 27|tive American/tiv...|     100|           Home|        2|\n",
      "| 19|2012|    3|    Homicide|     0|  M| 31|Asian/Pacific Isl...|     100|           Home|        3|\n",
      "| 23|2012|    4|    Homicide|     0|  F| 47|               Black|     100|           Home|        2|\n",
      "| 26|2012|    4|    Homicide|     0|  M| 41|               White|     100|Other specified|        2|\n",
      "| 27|2012|    4|     Suicide|     0|  M| 22|tive American/tiv...|     100|Other specified|        2|\n",
      "| 28|2012|    4|     Suicide|     0|  M| 21|               White|     100|Other specified|        2|\n",
      "| 30|2012|    4|    Homicide|     0|  M| 43|               White|     100|Other specified|        2|\n",
      "| 31|2012|    4|     Suicide|     0|  M| 38|tive American/tiv...|     100|           Home|        2|\n",
      "| 33|2012|    4|     Suicide|     0|  M| 22|tive American/tiv...|     100|           Home|        5|\n",
      "| 34|2012|    5|     Suicide|     0|  M| 27|               White|     100|           Home|        2|\n",
      "+---+----+-----+------------+------+---+---+--------------------+--------+---------------+---------+\n",
      "only showing top 20 rows\n",
      "\n"
     ]
    }
   ],
   "source": [
    "subset = df_spark.filter((df_spark.age > 20 ) & (df_spark.age < 50))\n",
    "subset.show()"
   ]
  },
  {
   "cell_type": "code",
   "execution_count": 7,
   "metadata": {},
   "outputs": [],
   "source": [
    "import pandas as pd"
   ]
  },
  {
   "cell_type": "code",
   "execution_count": 8,
   "metadata": {},
   "outputs": [],
   "source": [
    "df = pd.read_csv('/home/ron/Downloads/assignment_3.csv')"
   ]
  },
  {
   "cell_type": "code",
   "execution_count": 9,
   "metadata": {},
   "outputs": [],
   "source": [
    "df = df.sample(frac=1).reset_index(drop=True)"
   ]
  },
  {
   "cell_type": "code",
   "execution_count": 11,
   "metadata": {},
   "outputs": [],
   "source": [
    "df.head(50).to_csv('/home/ron/assignment_3-Bishwajit.csv')"
   ]
  },
  {
   "cell_type": "code",
   "execution_count": null,
   "metadata": {},
   "outputs": [],
   "source": []
  }
 ],
 "metadata": {
  "kernelspec": {
   "display_name": "pt_venv",
   "language": "python",
   "name": "python3"
  },
  "language_info": {
   "codemirror_mode": {
    "name": "ipython",
    "version": 3
   },
   "file_extension": ".py",
   "mimetype": "text/x-python",
   "name": "python",
   "nbconvert_exporter": "python",
   "pygments_lexer": "ipython3",
   "version": "3.8.10 (default, Nov 14 2022, 12:59:47) \n[GCC 9.4.0]"
  },
  "orig_nbformat": 4,
  "vscode": {
   "interpreter": {
    "hash": "d0b38470751228595caf28c77034a760a4deadb4c85422bd427ef44bac579847"
   }
  }
 },
 "nbformat": 4,
 "nbformat_minor": 2
}
